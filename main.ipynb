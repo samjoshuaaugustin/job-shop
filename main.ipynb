{
 "cells": [
  {
   "cell_type": "code",
   "execution_count": 1,
   "id": "d27e0208-7cba-4cf1-8e30-11ec51202794",
   "metadata": {},
   "outputs": [],
   "source": [
    "import pandas as pd"
   ]
  },
  {
   "cell_type": "code",
   "execution_count": 2,
   "id": "b58cad2a-e42e-4d53-bea6-c01645d0f057",
   "metadata": {},
   "outputs": [
    {
     "data": {
      "text/html": [
       "<div>\n",
       "<style scoped>\n",
       "    .dataframe tbody tr th:only-of-type {\n",
       "        vertical-align: middle;\n",
       "    }\n",
       "\n",
       "    .dataframe tbody tr th {\n",
       "        vertical-align: top;\n",
       "    }\n",
       "\n",
       "    .dataframe thead th {\n",
       "        text-align: right;\n",
       "    }\n",
       "</style>\n",
       "<table border=\"1\" class=\"dataframe\">\n",
       "  <thead>\n",
       "    <tr style=\"text-align: right;\">\n",
       "      <th></th>\n",
       "      <th>Job/Operation</th>\n",
       "      <th>1</th>\n",
       "      <th>2</th>\n",
       "      <th>3</th>\n",
       "    </tr>\n",
       "  </thead>\n",
       "  <tbody>\n",
       "    <tr>\n",
       "      <th>0</th>\n",
       "      <td>1</td>\n",
       "      <td>2</td>\n",
       "      <td>3</td>\n",
       "      <td>4</td>\n",
       "    </tr>\n",
       "    <tr>\n",
       "      <th>1</th>\n",
       "      <td>2</td>\n",
       "      <td>4</td>\n",
       "      <td>4</td>\n",
       "      <td>1</td>\n",
       "    </tr>\n",
       "    <tr>\n",
       "      <th>2</th>\n",
       "      <td>3</td>\n",
       "      <td>2</td>\n",
       "      <td>2</td>\n",
       "      <td>3</td>\n",
       "    </tr>\n",
       "    <tr>\n",
       "      <th>3</th>\n",
       "      <td>4</td>\n",
       "      <td>3</td>\n",
       "      <td>3</td>\n",
       "      <td>1</td>\n",
       "    </tr>\n",
       "  </tbody>\n",
       "</table>\n",
       "</div>"
      ],
      "text/plain": [
       "   Job/Operation  1  2  3\n",
       "0              1  2  3  4\n",
       "1              2  4  4  1\n",
       "2              3  2  2  3\n",
       "3              4  3  3  1"
      ]
     },
     "execution_count": 2,
     "metadata": {},
     "output_type": "execute_result"
    }
   ],
   "source": [
    "df1 = pd.read_csv('processing_times.csv') \n",
    "df1"
   ]
  },
  {
   "cell_type": "code",
   "execution_count": 3,
   "id": "545bc752-d4fa-40ce-824b-a1d50aa95ef2",
   "metadata": {},
   "outputs": [],
   "source": [
    "pop = []\n",
    "df = df1"
   ]
  },
  {
   "cell_type": "code",
   "execution_count": 4,
   "id": "502c3fb7-97ee-456c-ace5-a233b3a7b5d4",
   "metadata": {},
   "outputs": [
    {
     "data": {
      "text/html": [
       "<div>\n",
       "<style scoped>\n",
       "    .dataframe tbody tr th:only-of-type {\n",
       "        vertical-align: middle;\n",
       "    }\n",
       "\n",
       "    .dataframe tbody tr th {\n",
       "        vertical-align: top;\n",
       "    }\n",
       "\n",
       "    .dataframe thead th {\n",
       "        text-align: right;\n",
       "    }\n",
       "</style>\n",
       "<table border=\"1\" class=\"dataframe\">\n",
       "  <thead>\n",
       "    <tr style=\"text-align: right;\">\n",
       "      <th></th>\n",
       "      <th>Job/Operation</th>\n",
       "      <th>1</th>\n",
       "      <th>2</th>\n",
       "      <th>3</th>\n",
       "    </tr>\n",
       "  </thead>\n",
       "  <tbody>\n",
       "    <tr>\n",
       "      <th>0</th>\n",
       "      <td>1</td>\n",
       "      <td>1</td>\n",
       "      <td>2</td>\n",
       "      <td>3</td>\n",
       "    </tr>\n",
       "    <tr>\n",
       "      <th>1</th>\n",
       "      <td>2</td>\n",
       "      <td>3</td>\n",
       "      <td>2</td>\n",
       "      <td>1</td>\n",
       "    </tr>\n",
       "    <tr>\n",
       "      <th>2</th>\n",
       "      <td>3</td>\n",
       "      <td>2</td>\n",
       "      <td>3</td>\n",
       "      <td>1</td>\n",
       "    </tr>\n",
       "    <tr>\n",
       "      <th>3</th>\n",
       "      <td>4</td>\n",
       "      <td>1</td>\n",
       "      <td>3</td>\n",
       "      <td>2</td>\n",
       "    </tr>\n",
       "  </tbody>\n",
       "</table>\n",
       "</div>"
      ],
      "text/plain": [
       "   Job/Operation  1  2  3\n",
       "0              1  1  2  3\n",
       "1              2  3  2  1\n",
       "2              3  2  3  1\n",
       "3              4  1  3  2"
      ]
     },
     "execution_count": 4,
     "metadata": {},
     "output_type": "execute_result"
    }
   ],
   "source": [
    "df2 = pd.read_csv('routing_table.csv') \n",
    "df2"
   ]
  },
  {
   "cell_type": "code",
   "execution_count": 5,
   "id": "0e2b1e15-7c4c-4b30-9a14-a0037f8d913a",
   "metadata": {},
   "outputs": [
    {
     "data": {
      "text/html": [
       "<div>\n",
       "<style scoped>\n",
       "    .dataframe tbody tr th:only-of-type {\n",
       "        vertical-align: middle;\n",
       "    }\n",
       "\n",
       "    .dataframe tbody tr th {\n",
       "        vertical-align: top;\n",
       "    }\n",
       "\n",
       "    .dataframe thead th {\n",
       "        text-align: right;\n",
       "    }\n",
       "</style>\n",
       "<table border=\"1\" class=\"dataframe\">\n",
       "  <thead>\n",
       "    <tr style=\"text-align: right;\">\n",
       "      <th></th>\n",
       "      <th>1</th>\n",
       "      <th>2</th>\n",
       "      <th>3</th>\n",
       "    </tr>\n",
       "  </thead>\n",
       "  <tbody>\n",
       "    <tr>\n",
       "      <th>0</th>\n",
       "      <td>2</td>\n",
       "      <td>3</td>\n",
       "      <td>4</td>\n",
       "    </tr>\n",
       "    <tr>\n",
       "      <th>1</th>\n",
       "      <td>4</td>\n",
       "      <td>4</td>\n",
       "      <td>1</td>\n",
       "    </tr>\n",
       "    <tr>\n",
       "      <th>2</th>\n",
       "      <td>2</td>\n",
       "      <td>2</td>\n",
       "      <td>3</td>\n",
       "    </tr>\n",
       "    <tr>\n",
       "      <th>3</th>\n",
       "      <td>3</td>\n",
       "      <td>3</td>\n",
       "      <td>1</td>\n",
       "    </tr>\n",
       "  </tbody>\n",
       "</table>\n",
       "</div>"
      ],
      "text/plain": [
       "   1  2  3\n",
       "0  2  3  4\n",
       "1  4  4  1\n",
       "2  2  2  3\n",
       "3  3  3  1"
      ]
     },
     "execution_count": 5,
     "metadata": {},
     "output_type": "execute_result"
    }
   ],
   "source": [
    "df1 = df1.drop(df1.columns[0], axis = 1)\n",
    "df1"
   ]
  },
  {
   "cell_type": "code",
   "execution_count": 6,
   "id": "0aea121a-9ac7-44b9-9fda-0b54a3338f7e",
   "metadata": {},
   "outputs": [
    {
     "data": {
      "text/html": [
       "<div>\n",
       "<style scoped>\n",
       "    .dataframe tbody tr th:only-of-type {\n",
       "        vertical-align: middle;\n",
       "    }\n",
       "\n",
       "    .dataframe tbody tr th {\n",
       "        vertical-align: top;\n",
       "    }\n",
       "\n",
       "    .dataframe thead th {\n",
       "        text-align: right;\n",
       "    }\n",
       "</style>\n",
       "<table border=\"1\" class=\"dataframe\">\n",
       "  <thead>\n",
       "    <tr style=\"text-align: right;\">\n",
       "      <th></th>\n",
       "      <th>1</th>\n",
       "      <th>2</th>\n",
       "      <th>3</th>\n",
       "    </tr>\n",
       "  </thead>\n",
       "  <tbody>\n",
       "    <tr>\n",
       "      <th>0</th>\n",
       "      <td>1</td>\n",
       "      <td>2</td>\n",
       "      <td>3</td>\n",
       "    </tr>\n",
       "    <tr>\n",
       "      <th>1</th>\n",
       "      <td>3</td>\n",
       "      <td>2</td>\n",
       "      <td>1</td>\n",
       "    </tr>\n",
       "    <tr>\n",
       "      <th>2</th>\n",
       "      <td>2</td>\n",
       "      <td>3</td>\n",
       "      <td>1</td>\n",
       "    </tr>\n",
       "    <tr>\n",
       "      <th>3</th>\n",
       "      <td>1</td>\n",
       "      <td>3</td>\n",
       "      <td>2</td>\n",
       "    </tr>\n",
       "  </tbody>\n",
       "</table>\n",
       "</div>"
      ],
      "text/plain": [
       "   1  2  3\n",
       "0  1  2  3\n",
       "1  3  2  1\n",
       "2  2  3  1\n",
       "3  1  3  2"
      ]
     },
     "execution_count": 6,
     "metadata": {},
     "output_type": "execute_result"
    }
   ],
   "source": [
    "df2 = df2.drop(df2.columns[0], axis = 1)\n",
    "df2"
   ]
  },
  {
   "cell_type": "code",
   "execution_count": 7,
   "id": "86459f88-b41a-459b-b68a-3d879624bf14",
   "metadata": {},
   "outputs": [],
   "source": [
    "output = []"
   ]
  },
  {
   "cell_type": "code",
   "execution_count": 8,
   "id": "84cc54c8-2985-491b-ad03-0354c43494e0",
   "metadata": {},
   "outputs": [
    {
     "data": {
      "text/plain": [
       "([[1, 1, 1], [2, 1, 3], [3, 1, 2], [4, 1, 1]], [0, 0, 0, 0])"
      ]
     },
     "execution_count": 8,
     "metadata": {},
     "output_type": "execute_result"
    }
   ],
   "source": [
    "s = []\n",
    "f = []\n",
    "for i in range(df2.shape[0]):\n",
    "    s.append([i+1,1,int(df2.iloc[i,0])])\n",
    "    f.append(0)\n",
    "\n",
    "s, f"
   ]
  },
  {
   "cell_type": "code",
   "execution_count": 9,
   "id": "1fd6f934-6f80-4afc-8d6f-e08690c7fe66",
   "metadata": {},
   "outputs": [
    {
     "data": {
      "text/plain": [
       "[[0, 9], [1, 9], [2, 7], [3, 7]]"
      ]
     },
     "execution_count": 9,
     "metadata": {},
     "output_type": "execute_result"
    }
   ],
   "source": [
    "def job_processing_time(table, sss):\n",
    "    List = []\n",
    "    # print(table.shape)\n",
    "    for i in range(table.shape[0]):\n",
    "        sum = 0\n",
    "        for j in range(sss[i][1]-1, table.shape[1]):\n",
    "            sum+=table.iloc[i,j]\n",
    "            job = i\n",
    "        List.append([job, int(sum)])\n",
    "    return List\n",
    "p = job_processing_time(df1,s)\n",
    "\n",
    "p"
   ]
  },
  {
   "cell_type": "code",
   "execution_count": 10,
   "id": "7af0c108-a7e9-4bf3-9c61-f16ccac0539c",
   "metadata": {},
   "outputs": [
    {
     "data": {
      "text/plain": [
       "(9, 2, [0, 1])"
      ]
     },
     "execution_count": 10,
     "metadata": {},
     "output_type": "execute_result"
    }
   ],
   "source": [
    "def count_maxi(l):\n",
    "    ind = []\n",
    "    count = 0\n",
    "    l = sorted(l, key=lambda x: x[1]) #lambda arguments: expression\n",
    "    maxi = l[-1][1]\n",
    "    for i in l:\n",
    "        if maxi == i[1]:\n",
    "            count +=1\n",
    "            ind.append(i[0])\n",
    "    return maxi, count, ind\n",
    "\n",
    "maxi, count, index = count_maxi(p)\n",
    "maxi, count, index"
   ]
  },
  {
   "cell_type": "code",
   "execution_count": 11,
   "id": "2789813f-d828-452b-af31-c6d579613750",
   "metadata": {},
   "outputs": [
    {
     "data": {
      "text/plain": [
       "(2, 0)"
      ]
     },
     "execution_count": 11,
     "metadata": {},
     "output_type": "execute_result"
    }
   ],
   "source": [
    "mini = int(df1.iloc[index[0],0])\n",
    "pos = index[0]\n",
    "for i in index[1:]:\n",
    "    if df1.iloc[i,0] < mini:\n",
    "        mini = int(df1.iloc[i,0])\n",
    "        pos = i\n",
    "mini, pos"
   ]
  },
  {
   "cell_type": "code",
   "execution_count": 12,
   "id": "8f401c31-4efd-4e87-a7e2-37b8adf30486",
   "metadata": {},
   "outputs": [
    {
     "name": "stdout",
     "output_type": "stream",
     "text": [
      "[[1, 1, 1]]\n",
      "[[2, 1, 3], [3, 1, 2], [4, 1, 1]]\n"
     ]
    }
   ],
   "source": [
    "output.append(s[pos])\n",
    "s.pop(pos)\n",
    "\n",
    "print(output)\n",
    "print(s)"
   ]
  },
  {
   "cell_type": "code",
   "execution_count": 13,
   "id": "749e0f4b-56f9-43dc-b19a-db07f5ce0d66",
   "metadata": {},
   "outputs": [
    {
     "data": {
      "text/plain": [
       "(0, [0, 1, 2, 3])"
      ]
     },
     "execution_count": 13,
     "metadata": {},
     "output_type": "execute_result"
    }
   ],
   "source": [
    "def job_mini_index(l):\n",
    "    mini = l[0]\n",
    "    for i in l[1:]:\n",
    "        if i <= mini:\n",
    "            mini = i\n",
    "    index = []\n",
    "    for i in range(len(l)):\n",
    "        if l[i] == mini:\n",
    "            index.append(i)\n",
    "    return mini, index\n",
    "    \n",
    "l_ind = job_mini_index(f)\n",
    "l_ind"
   ]
  },
  {
   "cell_type": "code",
   "execution_count": 14,
   "id": "4469e3dd-9409-44e5-9779-f9b87fdd4465",
   "metadata": {},
   "outputs": [
    {
     "data": {
      "text/plain": [
       "[1, 2, 2]"
      ]
     },
     "execution_count": 14,
     "metadata": {},
     "output_type": "execute_result"
    }
   ],
   "source": [
    "e = []\n",
    "e.append(output[-1][0])\n",
    "e.append(output[-1][1]+1)\n",
    "e.append(int(df2.iloc[e[0]-1,e[1]-1]))\n",
    "e"
   ]
  },
  {
   "cell_type": "code",
   "execution_count": 15,
   "id": "55a19c0c-efe5-437c-8afd-b8f5684c8e9b",
   "metadata": {},
   "outputs": [
    {
     "data": {
      "text/plain": [
       "([[1, 2, 2], [2, 1, 3], [3, 1, 2], [4, 1, 1]], [[1, 1, 1]])"
      ]
     },
     "execution_count": 15,
     "metadata": {},
     "output_type": "execute_result"
    }
   ],
   "source": [
    "s.append(e)\n",
    "s.sort(key= lambda x:x[0])\n",
    "s, output"
   ]
  },
  {
   "cell_type": "code",
   "execution_count": 16,
   "id": "9998a1c1-62dc-45e2-8e0a-cde8b1e4ba83",
   "metadata": {},
   "outputs": [
    {
     "name": "stdout",
     "output_type": "stream",
     "text": [
      "4\n"
     ]
    },
    {
     "data": {
      "text/plain": [
       "[2, 0, 0, 2]"
      ]
     },
     "execution_count": 16,
     "metadata": {},
     "output_type": "execute_result"
    }
   ],
   "source": [
    "f[output[-1][0]-1] += int(df1.iloc[output[-1][0]-1, output[-1][1]-1])\n",
    "for i in s:\n",
    "    if output[-1][2] == i[2]:\n",
    "        print(i[0])\n",
    "        f[i[0] - 1] += f[output[-1][0]-1]\n",
    "f"
   ]
  },
  {
   "cell_type": "code",
   "execution_count": 17,
   "id": "3eaa2e09-85cb-4292-ba02-da8376580ae7",
   "metadata": {},
   "outputs": [
    {
     "data": {
      "text/plain": [
       "[[0, 7], [1, 9], [2, 7], [3, 7]]"
      ]
     },
     "execution_count": 17,
     "metadata": {},
     "output_type": "execute_result"
    }
   ],
   "source": [
    "p = job_processing_time(df1,s)\n",
    "\n",
    "p"
   ]
  },
  {
   "cell_type": "code",
   "execution_count": 18,
   "id": "667c9c14-b21c-45f5-a2a7-e1d110d76046",
   "metadata": {},
   "outputs": [
    {
     "name": "stdout",
     "output_type": "stream",
     "text": [
      "[[0, 7], [1, 9], [2, 7], [3, 7]]\n"
     ]
    },
    {
     "data": {
      "text/plain": [
       "(9, 1, [1])"
      ]
     },
     "execution_count": 18,
     "metadata": {},
     "output_type": "execute_result"
    }
   ],
   "source": [
    "li = []\n",
    "for i in l_ind[1]:\n",
    "    li.append(p[i])\n",
    "print(li)\n",
    "\n",
    "m,c,po = count_maxi(li)\n",
    "m,c,po"
   ]
  },
  {
   "cell_type": "code",
   "execution_count": 19,
   "id": "92191425-678e-4514-93e5-4e7f6ae3e6d6",
   "metadata": {},
   "outputs": [
    {
     "data": {
      "text/plain": [
       "1"
      ]
     },
     "execution_count": 19,
     "metadata": {},
     "output_type": "execute_result"
    }
   ],
   "source": [
    "pos = li[po[0]][0]\n",
    "pos"
   ]
  },
  {
   "cell_type": "code",
   "execution_count": 20,
   "id": "31244142-4a77-4e65-9044-7788962f2f79",
   "metadata": {},
   "outputs": [
    {
     "name": "stdout",
     "output_type": "stream",
     "text": [
      "[[1, 1, 1], [2, 1, 3]]\n",
      "[[1, 2, 2], [3, 1, 2], [4, 1, 1]]\n"
     ]
    }
   ],
   "source": [
    "output.append(s[pos])\n",
    "s.pop(pos)\n",
    "\n",
    "print(output)\n",
    "print(s)"
   ]
  },
  {
   "cell_type": "code",
   "execution_count": 21,
   "id": "447595ff-f906-4542-9ccd-682dca6e4122",
   "metadata": {},
   "outputs": [
    {
     "data": {
      "text/plain": [
       "[2, 2, 2]"
      ]
     },
     "execution_count": 21,
     "metadata": {},
     "output_type": "execute_result"
    }
   ],
   "source": [
    "e = []\n",
    "e.append(output[-1][0])\n",
    "e.append(output[-1][1]+1)\n",
    "e.append(int(df2.iloc[e[0]-1,e[1]-1]))\n",
    "e"
   ]
  },
  {
   "cell_type": "code",
   "execution_count": 22,
   "id": "8486551a-c621-46b4-83bf-59030a352d1e",
   "metadata": {},
   "outputs": [
    {
     "data": {
      "text/plain": [
       "([[1, 2, 2], [2, 2, 2], [3, 1, 2], [4, 1, 1]], [[1, 1, 1], [2, 1, 3]])"
      ]
     },
     "execution_count": 22,
     "metadata": {},
     "output_type": "execute_result"
    }
   ],
   "source": [
    "s.append(e)\n",
    "s.sort(key= lambda x:x[0])\n",
    "s, output"
   ]
  },
  {
   "cell_type": "code",
   "execution_count": 23,
   "id": "405fb213-1eb3-4c72-9d5e-51620df0c9a5",
   "metadata": {},
   "outputs": [
    {
     "data": {
      "text/plain": [
       "[2, 4, 0, 2]"
      ]
     },
     "execution_count": 23,
     "metadata": {},
     "output_type": "execute_result"
    }
   ],
   "source": [
    "f[output[-1][0]-1] += int(df1.iloc[output[-1][0]-1, output[-1][1]-1])\n",
    "for i in s:\n",
    "    if output[-1][2] == i[2]:\n",
    "        print(i[0])\n",
    "        f[i[0] - 1] += f[output[-1][0]-1]\n",
    "f"
   ]
  },
  {
   "cell_type": "code",
   "execution_count": 24,
   "id": "adb6e93c-b821-48d4-9829-29cd927082f5",
   "metadata": {},
   "outputs": [
    {
     "data": {
      "text/plain": [
       "(0, [2])"
      ]
     },
     "execution_count": 24,
     "metadata": {},
     "output_type": "execute_result"
    }
   ],
   "source": [
    "l_ind = job_mini_index(f)\n",
    "l_ind"
   ]
  },
  {
   "cell_type": "code",
   "execution_count": 25,
   "id": "3b669f61-d384-4d2b-a1bc-df45f41a4757",
   "metadata": {},
   "outputs": [
    {
     "data": {
      "text/plain": [
       "2"
      ]
     },
     "execution_count": 25,
     "metadata": {},
     "output_type": "execute_result"
    }
   ],
   "source": [
    "if len(l_ind[1]) == 1:\n",
    "    pos = l_ind[1][0]\n",
    "\n",
    "pos"
   ]
  },
  {
   "cell_type": "code",
   "execution_count": 26,
   "id": "cf57f2e7-c2e7-4306-9ecb-eac626b7d029",
   "metadata": {},
   "outputs": [
    {
     "name": "stdout",
     "output_type": "stream",
     "text": [
      "[[1, 1, 1], [2, 1, 3], [3, 1, 2]]\n",
      "[[1, 2, 2], [2, 2, 2], [4, 1, 1]]\n"
     ]
    }
   ],
   "source": [
    "output.append(s[pos])\n",
    "s.pop(pos)\n",
    "\n",
    "print(output)\n",
    "print(s)"
   ]
  },
  {
   "cell_type": "code",
   "execution_count": 27,
   "id": "adb4cfef-ddac-44b1-8b00-007070b1c53e",
   "metadata": {},
   "outputs": [
    {
     "data": {
      "text/plain": [
       "[3, 2, 3]"
      ]
     },
     "execution_count": 27,
     "metadata": {},
     "output_type": "execute_result"
    }
   ],
   "source": [
    "e = []\n",
    "e.append(output[-1][0])\n",
    "e.append(output[-1][1]+1)\n",
    "e.append(int(df2.iloc[e[0]-1,e[1]-1]))\n",
    "e"
   ]
  },
  {
   "cell_type": "code",
   "execution_count": 28,
   "id": "fc537004-eaf3-45ed-a036-404082c68cb3",
   "metadata": {},
   "outputs": [
    {
     "name": "stdout",
     "output_type": "stream",
     "text": [
      "[[1, 1, 1], [2, 1, 3], [3, 1, 2]]\n",
      "[[1, 2, 2], [2, 2, 2], [3, 2, 3], [4, 1, 1]]\n"
     ]
    }
   ],
   "source": [
    "s.append(e)\n",
    "s.sort(key= lambda x:x[0])\n",
    "\n",
    "print(output)\n",
    "print(s)"
   ]
  },
  {
   "cell_type": "code",
   "execution_count": 29,
   "id": "7099ebd2-e7d4-4a03-90be-b0740ee242dc",
   "metadata": {},
   "outputs": [
    {
     "data": {
      "text/plain": [
       "[2, 4, 2, 2]"
      ]
     },
     "execution_count": 29,
     "metadata": {},
     "output_type": "execute_result"
    }
   ],
   "source": [
    "f[output[-1][0]-1] += int(df1.iloc[output[-1][0]-1, output[-1][1]-1])\n",
    "int(df1.iloc[output[-1][0]-1, output[-1][1]-1])\n",
    "for i in s:\n",
    "    if (output[-1][2] == i[2]) and (f[i[0] - 1]<f[output[-1][0]-1]):\n",
    "        print(i[0])\n",
    "        f[i[0] - 1] += f[output[-1][0]-1]\n",
    "f\n",
    "\n",
    "#[2, 4, 0, 2]\n",
    "#[2,4,4,2]"
   ]
  },
  {
   "cell_type": "code",
   "execution_count": 30,
   "id": "23dee272-1728-4925-bfba-dd690c70c9f0",
   "metadata": {},
   "outputs": [
    {
     "data": {
      "text/plain": [
       "(2, [0, 2, 3])"
      ]
     },
     "execution_count": 30,
     "metadata": {},
     "output_type": "execute_result"
    }
   ],
   "source": [
    "l_ind = job_mini_index(f)\n",
    "l_ind"
   ]
  },
  {
   "cell_type": "code",
   "execution_count": 31,
   "id": "439f8a40-499a-4f5c-a21c-d997557a778c",
   "metadata": {},
   "outputs": [
    {
     "data": {
      "text/plain": [
       "[[0, 7], [1, 5], [2, 5], [3, 7]]"
      ]
     },
     "execution_count": 31,
     "metadata": {},
     "output_type": "execute_result"
    }
   ],
   "source": [
    "p = job_processing_time(df1,s)\n",
    "\n",
    "p"
   ]
  },
  {
   "cell_type": "code",
   "execution_count": 32,
   "id": "cd257a5c-c0dc-47e9-992f-edeb92f93aed",
   "metadata": {},
   "outputs": [
    {
     "name": "stdout",
     "output_type": "stream",
     "text": [
      "[[0, 7], [2, 5], [3, 7]]\n"
     ]
    },
    {
     "data": {
      "text/plain": [
       "(7, 2, [0, 3])"
      ]
     },
     "execution_count": 32,
     "metadata": {},
     "output_type": "execute_result"
    }
   ],
   "source": [
    "li = []\n",
    "for i in l_ind[1]:\n",
    "    li.append(p[i])\n",
    "print(li)\n",
    "\n",
    "maxi, count, index = count_maxi(p)\n",
    "maxi, count, index"
   ]
  },
  {
   "cell_type": "code",
   "execution_count": 33,
   "id": "55f4529a-69e3-4ddb-a270-91af8b56cb07",
   "metadata": {},
   "outputs": [
    {
     "name": "stdout",
     "output_type": "stream",
     "text": [
      "3\n",
      "3\n"
     ]
    },
    {
     "data": {
      "text/plain": [
       "(3, 3)"
      ]
     },
     "execution_count": 33,
     "metadata": {},
     "output_type": "execute_result"
    }
   ],
   "source": [
    "mini = int(df1.iloc[index[0],s[i][1]])\n",
    "print(mini)\n",
    "pos = index[0]\n",
    "for i in index[1:]:\n",
    "    print(df1.iloc[i,s[i][1]])\n",
    "    if df1.iloc[i,s[i][1]] <= mini:\n",
    "        mini = int(df1.iloc[i,0])\n",
    "        pos = i\n",
    "mini, pos"
   ]
  },
  {
   "cell_type": "code",
   "execution_count": 34,
   "id": "cc10812c-95c4-440e-9df9-80c5fa8758df",
   "metadata": {},
   "outputs": [
    {
     "name": "stdout",
     "output_type": "stream",
     "text": [
      "[[1, 1, 1], [2, 1, 3], [3, 1, 2], [4, 1, 1]]\n",
      "[[1, 2, 2], [2, 2, 2], [3, 2, 3]]\n"
     ]
    }
   ],
   "source": [
    "output.append(s[pos])\n",
    "s.pop(pos)\n",
    "\n",
    "print(output)\n",
    "print(s)"
   ]
  },
  {
   "cell_type": "code",
   "execution_count": 35,
   "id": "98cdfb1b-6142-402f-a086-900d9a7bbd14",
   "metadata": {},
   "outputs": [
    {
     "data": {
      "text/plain": [
       "[4, 2, 3]"
      ]
     },
     "execution_count": 35,
     "metadata": {},
     "output_type": "execute_result"
    }
   ],
   "source": [
    "e = []\n",
    "e.append(output[-1][0])\n",
    "e.append(output[-1][1]+1)\n",
    "e.append(int(df2.iloc[e[0]-1,e[1]-1]))\n",
    "e"
   ]
  },
  {
   "cell_type": "code",
   "execution_count": 36,
   "id": "da5975e6-4c2d-432f-beab-65fef2b03f2b",
   "metadata": {},
   "outputs": [
    {
     "name": "stdout",
     "output_type": "stream",
     "text": [
      "[[1, 1, 1], [2, 1, 3], [3, 1, 2], [4, 1, 1]]\n",
      "[[1, 2, 2], [2, 2, 2], [3, 2, 3], [4, 2, 3]]\n"
     ]
    }
   ],
   "source": [
    "s.append(e)\n",
    "s.sort(key= lambda x:x[0])\n",
    "\n",
    "print(output)\n",
    "print(s)"
   ]
  },
  {
   "cell_type": "code",
   "execution_count": 37,
   "id": "ee47f2c3-eef7-4cab-82d2-0acedecdda4e",
   "metadata": {},
   "outputs": [
    {
     "data": {
      "text/plain": [
       "[2, 4, 2, 5]"
      ]
     },
     "execution_count": 37,
     "metadata": {},
     "output_type": "execute_result"
    }
   ],
   "source": [
    "f[output[-1][0]-1] += int(df1.iloc[output[-1][0]-1, output[-1][1]-1])\n",
    "int(df1.iloc[output[-1][0]-1, output[-1][1]-1])\n",
    "for i in s:\n",
    "    if (output[-1][2] == i[2]) and (f[i[0] - 1]<f[output[-1][0]-1]):\n",
    "        print(i[0])\n",
    "        f[i[0] - 1] += f[output[-1][0]-1]\n",
    "f"
   ]
  },
  {
   "cell_type": "code",
   "execution_count": 38,
   "id": "9891de99-63ef-4e55-9dd1-0d6935fa699d",
   "metadata": {},
   "outputs": [
    {
     "data": {
      "text/plain": [
       "(2, [0, 2])"
      ]
     },
     "execution_count": 38,
     "metadata": {},
     "output_type": "execute_result"
    }
   ],
   "source": [
    "l_ind = job_mini_index(f)\n",
    "l_ind"
   ]
  },
  {
   "cell_type": "code",
   "execution_count": 39,
   "id": "913392fa-51d0-47e0-9a5e-fcb196778ea9",
   "metadata": {},
   "outputs": [
    {
     "data": {
      "text/plain": [
       "[[0, 7], [1, 5], [2, 5], [3, 4]]"
      ]
     },
     "execution_count": 39,
     "metadata": {},
     "output_type": "execute_result"
    }
   ],
   "source": [
    "p = job_processing_time(df1,s)\n",
    "\n",
    "p"
   ]
  },
  {
   "cell_type": "code",
   "execution_count": 40,
   "id": "656f62cf-f398-418b-95d4-f48e17ad50c0",
   "metadata": {},
   "outputs": [
    {
     "name": "stdout",
     "output_type": "stream",
     "text": [
      "[[0, 7], [2, 5]]\n"
     ]
    },
    {
     "data": {
      "text/plain": [
       "(7, 1, [0])"
      ]
     },
     "execution_count": 40,
     "metadata": {},
     "output_type": "execute_result"
    }
   ],
   "source": [
    "li = []\n",
    "for i in l_ind[1]:\n",
    "    li.append(p[i])\n",
    "print(li)\n",
    "\n",
    "maxi, count, index = count_maxi(p)\n",
    "maxi, count, index"
   ]
  },
  {
   "cell_type": "code",
   "execution_count": 41,
   "id": "be159b87-848f-4584-91b8-f2ca05554f33",
   "metadata": {},
   "outputs": [
    {
     "name": "stdout",
     "output_type": "stream",
     "text": [
      "4\n"
     ]
    },
    {
     "data": {
      "text/plain": [
       "(4, 0)"
      ]
     },
     "execution_count": 41,
     "metadata": {},
     "output_type": "execute_result"
    }
   ],
   "source": [
    "mini = int(df1.iloc[index[0],s[i][1]])\n",
    "print(mini)\n",
    "pos = index[0]\n",
    "for i in index[1:]:\n",
    "    print(df1.iloc[i,s[i][1]])\n",
    "    if df1.iloc[i,s[i][1]] <= mini:\n",
    "        mini = int(df1.iloc[i,0])\n",
    "        pos = i\n",
    "mini, pos"
   ]
  },
  {
   "cell_type": "code",
   "execution_count": 42,
   "id": "4f8265b7-d3c4-4641-bf36-a460a0581e73",
   "metadata": {},
   "outputs": [
    {
     "data": {
      "text/plain": [
       "0"
      ]
     },
     "execution_count": 42,
     "metadata": {},
     "output_type": "execute_result"
    }
   ],
   "source": [
    "if len(l_ind[1]) == 1:\n",
    "    pos = l_ind[1][0]\n",
    "\n",
    "pos"
   ]
  },
  {
   "cell_type": "code",
   "execution_count": 43,
   "id": "937485bb-3e63-4416-b1e2-3ff502f579b6",
   "metadata": {},
   "outputs": [
    {
     "name": "stdout",
     "output_type": "stream",
     "text": [
      "[[1, 1, 1], [2, 1, 3], [3, 1, 2], [4, 1, 1], [1, 2, 2]]\n",
      "[[2, 2, 2], [3, 2, 3], [4, 2, 3]]\n"
     ]
    }
   ],
   "source": [
    "output.append(s[pos])\n",
    "s.pop(pos)\n",
    "\n",
    "print(output)\n",
    "print(s)"
   ]
  },
  {
   "cell_type": "code",
   "execution_count": 44,
   "id": "7a92f3a9-8df7-422c-ac7e-4750a7ecb76e",
   "metadata": {},
   "outputs": [
    {
     "data": {
      "text/plain": [
       "[1, 3, 3]"
      ]
     },
     "execution_count": 44,
     "metadata": {},
     "output_type": "execute_result"
    }
   ],
   "source": [
    "e = []\n",
    "e.append(output[-1][0])\n",
    "e.append(output[-1][1]+1)\n",
    "e.append(int(df2.iloc[e[0]-1,e[1]-1]))\n",
    "e"
   ]
  },
  {
   "cell_type": "code",
   "execution_count": 45,
   "id": "d05dd196-086f-43ae-9f81-05a513b9b897",
   "metadata": {},
   "outputs": [
    {
     "name": "stdout",
     "output_type": "stream",
     "text": [
      "[[1, 1, 1], [2, 1, 3], [3, 1, 2], [4, 1, 1], [1, 2, 2]]\n",
      "[[1, 3, 3], [2, 2, 2], [3, 2, 3], [4, 2, 3]]\n"
     ]
    }
   ],
   "source": [
    "s.append(e)\n",
    "s.sort(key= lambda x:x[0])\n",
    "\n",
    "print(output)\n",
    "print(s)"
   ]
  },
  {
   "cell_type": "code",
   "execution_count": 46,
   "id": "ec80f699-8f13-4366-9e17-c049f5f8b461",
   "metadata": {},
   "outputs": [
    {
     "name": "stdout",
     "output_type": "stream",
     "text": [
      "2\n"
     ]
    },
    {
     "data": {
      "text/plain": [
       "[5, 9, 2, 5]"
      ]
     },
     "execution_count": 46,
     "metadata": {},
     "output_type": "execute_result"
    }
   ],
   "source": [
    "f[output[-1][0]-1] += int(df1.iloc[output[-1][0]-1, output[-1][1]-1])\n",
    "int(df1.iloc[output[-1][0]-1, output[-1][1]-1])\n",
    "for i in s:\n",
    "    if (output[-1][2] == i[2]) and (f[i[0] - 1]<f[output[-1][0]-1]):\n",
    "        print(i[0])\n",
    "        f[i[0] - 1] += f[output[-1][0]-1]\n",
    "f"
   ]
  },
  {
   "cell_type": "code",
   "execution_count": 47,
   "id": "898013ed-4b07-4204-b0d8-7ce02cd40ceb",
   "metadata": {},
   "outputs": [
    {
     "data": {
      "text/plain": [
       "(2, [2])"
      ]
     },
     "execution_count": 47,
     "metadata": {},
     "output_type": "execute_result"
    }
   ],
   "source": [
    "l_ind = job_mini_index(f)\n",
    "l_ind"
   ]
  },
  {
   "cell_type": "code",
   "execution_count": 48,
   "id": "0818f0fb-b3af-4f6d-855f-9598d82cf8ff",
   "metadata": {},
   "outputs": [
    {
     "data": {
      "text/plain": [
       "2"
      ]
     },
     "execution_count": 48,
     "metadata": {},
     "output_type": "execute_result"
    }
   ],
   "source": [
    "if len(l_ind[1]) == 1:\n",
    "    pos = l_ind[1][0]\n",
    "\n",
    "pos"
   ]
  },
  {
   "cell_type": "code",
   "execution_count": 49,
   "id": "d6dbb2f7-1de9-4d74-80e7-5362bf69fc1e",
   "metadata": {},
   "outputs": [
    {
     "name": "stdout",
     "output_type": "stream",
     "text": [
      "[[1, 1, 1], [2, 1, 3], [3, 1, 2], [4, 1, 1], [1, 2, 2], [3, 2, 3]]\n",
      "[[1, 3, 3], [2, 2, 2], [4, 2, 3]]\n"
     ]
    }
   ],
   "source": [
    "output.append(s[pos])\n",
    "s.pop(pos)\n",
    "\n",
    "print(output)\n",
    "print(s)"
   ]
  },
  {
   "cell_type": "code",
   "execution_count": 50,
   "id": "826965a3-1661-4097-90fb-331211e432cc",
   "metadata": {},
   "outputs": [
    {
     "data": {
      "text/plain": [
       "[3, 3, 1]"
      ]
     },
     "execution_count": 50,
     "metadata": {},
     "output_type": "execute_result"
    }
   ],
   "source": [
    "e = []\n",
    "e.append(output[-1][0])\n",
    "e.append(output[-1][1]+1)\n",
    "e.append(int(df2.iloc[e[0]-1,e[1]-1]))\n",
    "e"
   ]
  },
  {
   "cell_type": "code",
   "execution_count": 51,
   "id": "0a1ab059-5b8c-416b-9dcc-1437fa48eeca",
   "metadata": {},
   "outputs": [
    {
     "name": "stdout",
     "output_type": "stream",
     "text": [
      "[[1, 1, 1], [2, 1, 3], [3, 1, 2], [4, 1, 1], [1, 2, 2], [3, 2, 3]]\n",
      "[[1, 3, 3], [2, 2, 2], [3, 3, 1], [4, 2, 3]]\n"
     ]
    }
   ],
   "source": [
    "s.append(e)\n",
    "s.sort(key= lambda x:x[0])\n",
    "\n",
    "print(output)\n",
    "print(s)"
   ]
  },
  {
   "cell_type": "code",
   "execution_count": 52,
   "id": "0391a78f-6bf7-47f8-b510-7d6300d974de",
   "metadata": {},
   "outputs": [
    {
     "data": {
      "text/plain": [
       "[5, 9, 4, 5]"
      ]
     },
     "execution_count": 52,
     "metadata": {},
     "output_type": "execute_result"
    }
   ],
   "source": [
    "f[output[-1][0]-1] += int(df1.iloc[output[-1][0]-1, output[-1][1]-1])\n",
    "int(df1.iloc[output[-1][0]-1, output[-1][1]-1])\n",
    "for i in s:\n",
    "    if (output[-1][2] == i[2]) and (f[i[0] - 1]<f[output[-1][0]-1]):\n",
    "        print(i[0])\n",
    "        f[i[0] - 1] += f[output[-1][0]-1]\n",
    "f"
   ]
  },
  {
   "cell_type": "code",
   "execution_count": 53,
   "id": "47c66d3e-6df7-4330-8899-e1c45ec639bd",
   "metadata": {},
   "outputs": [
    {
     "data": {
      "text/plain": [
       "(4, [2])"
      ]
     },
     "execution_count": 53,
     "metadata": {},
     "output_type": "execute_result"
    }
   ],
   "source": [
    "l_ind = job_mini_index(f)\n",
    "l_ind"
   ]
  },
  {
   "cell_type": "code",
   "execution_count": 54,
   "id": "b72be88f-7f13-47cd-a493-f0e4d3e5a75f",
   "metadata": {},
   "outputs": [
    {
     "data": {
      "text/plain": [
       "2"
      ]
     },
     "execution_count": 54,
     "metadata": {},
     "output_type": "execute_result"
    }
   ],
   "source": [
    "if len(l_ind[1]) == 1:\n",
    "    pos = l_ind[1][0]\n",
    "\n",
    "pos"
   ]
  },
  {
   "cell_type": "code",
   "execution_count": 55,
   "id": "4e6fd740-697c-451e-b45a-7d4d4794db19",
   "metadata": {},
   "outputs": [
    {
     "name": "stdout",
     "output_type": "stream",
     "text": [
      "[[1, 1, 1], [2, 1, 3], [3, 1, 2], [4, 1, 1], [1, 2, 2], [3, 2, 3], [3, 3, 1]]\n",
      "[[1, 3, 3], [2, 2, 2], [4, 2, 3]]\n"
     ]
    }
   ],
   "source": [
    "output.append(s[pos])\n",
    "s.pop(pos)\n",
    "\n",
    "print(output)\n",
    "print(s)"
   ]
  },
  {
   "cell_type": "code",
   "execution_count": 56,
   "id": "c0ba38f6-492e-4c84-8f55-a483b0568fa1",
   "metadata": {},
   "outputs": [
    {
     "data": {
      "text/plain": [
       "([5, 9, 4, 5],\n",
       "    1  2  3\n",
       " 0  2  3  4\n",
       " 1  4  4  1\n",
       " 2  2  2  3\n",
       " 3  3  3  1,\n",
       "    1  2  3\n",
       " 0  1  2  3\n",
       " 1  3  2  1\n",
       " 2  2  3  1\n",
       " 3  1  3  2,\n",
       " (4, 3))"
      ]
     },
     "execution_count": 56,
     "metadata": {},
     "output_type": "execute_result"
    }
   ],
   "source": [
    "f, df1, df2, df1.shape"
   ]
  },
  {
   "cell_type": "code",
   "execution_count": 57,
   "id": "6bccd7fe-d592-44c9-a453-dd9a9bafec08",
   "metadata": {},
   "outputs": [
    {
     "name": "stdout",
     "output_type": "stream",
     "text": [
      "[3, 4]\n",
      "3\n"
     ]
    },
    {
     "data": {
      "text/plain": [
       "([[1, 3, 3], [2, 2, 2], [4, 2, 3]], [5, 9, 5], [2])"
      ]
     },
     "execution_count": 57,
     "metadata": {},
     "output_type": "execute_result"
    }
   ],
   "source": [
    "e = []\n",
    "e.append(output[-1][0])\n",
    "e.append(output[-1][1]+1)\n",
    "print(e)\n",
    "print(df1.shape[1])\n",
    "if int(e[1]) + 1 >= df1.shape[1]:\n",
    "    \n",
    "    f.pop(e[0]-1)\n",
    "    df1 = df1.drop(e[0]-1)\n",
    "    df2 = df2.drop(e[0]-1)\n",
    "    pop.append(e[0]-1)\n",
    "else:\n",
    "    e.append(int(df2.iloc[e[0]-1,e[1]-1]))\n",
    "    s.append(e)\n",
    "    s.sort(key= lambda x:x[0])\n",
    "\n",
    "    print(output)\n",
    "s, f, pop"
   ]
  },
  {
   "cell_type": "code",
   "execution_count": 58,
   "id": "8fefb933-2f82-4ae1-842d-0d16901e38db",
   "metadata": {},
   "outputs": [
    {
     "name": "stdout",
     "output_type": "stream",
     "text": [
      "[2, 1, 1]\n",
      "(3, 3)\n",
      "0\n",
      "1002\n",
      "1\n",
      "1001\n",
      "1002\n",
      "3\n",
      "1001\n",
      "1002\n"
     ]
    },
    {
     "data": {
      "text/plain": [
       "[[0, 3], [1, 8], [3, 6]]"
      ]
     },
     "execution_count": 58,
     "metadata": {},
     "output_type": "execute_result"
    }
   ],
   "source": [
    "def job_processing_t(table, sss):\n",
    "    List = []\n",
    "    columns = table.columns\n",
    "    ll = [x[1]-1 for x in sss]\n",
    "    print(ll)\n",
    "    c = 0\n",
    "    print(table.shape)\n",
    "    for i in list(df1.index):\n",
    "        print(i)\n",
    "        sum = 0\n",
    "        for j in range(ll[c], table.shape[1]):\n",
    "            print(1000+ j)\n",
    "            sum+=table.loc[i,str(j)]\n",
    "        List.append([i, int(sum)])\n",
    "        c += 1\n",
    "    return List\n",
    "\n",
    "p = job_processing_t(df1,s)\n",
    "\n",
    "p"
   ]
  },
  {
   "cell_type": "code",
   "execution_count": 59,
   "id": "ff5f041b-b179-4eb5-9b44-5313879f4a7f",
   "metadata": {},
   "outputs": [
    {
     "data": {
      "text/plain": [
       "(5, [0, 2])"
      ]
     },
     "execution_count": 59,
     "metadata": {},
     "output_type": "execute_result"
    }
   ],
   "source": [
    "l_ind = job_mini_index(f)\n",
    "l_ind"
   ]
  },
  {
   "cell_type": "code",
   "execution_count": 60,
   "id": "9c912489-e3fe-4e73-a65c-f6a36a94ada2",
   "metadata": {},
   "outputs": [
    {
     "name": "stdout",
     "output_type": "stream",
     "text": [
      "[[0, 3], [3, 6]]\n"
     ]
    },
    {
     "data": {
      "text/plain": [
       "(6, 1, [3])"
      ]
     },
     "execution_count": 60,
     "metadata": {},
     "output_type": "execute_result"
    }
   ],
   "source": [
    "li = []\n",
    "for i in l_ind[1]:\n",
    "    li.append(p[i])\n",
    "print(li)\n",
    "\n",
    "m,c,po = count_maxi(li)\n",
    "m,c,po"
   ]
  },
  {
   "cell_type": "code",
   "execution_count": 61,
   "id": "1614f9d3-2ca2-4d72-b137-fbb5d14f7edf",
   "metadata": {},
   "outputs": [
    {
     "data": {
      "text/plain": [
       "2"
      ]
     },
     "execution_count": 61,
     "metadata": {},
     "output_type": "execute_result"
    }
   ],
   "source": [
    "for i in li:\n",
    "    if [i[0]] == po:\n",
    "        poss = i[0]\n",
    "for k in range(len(s)):\n",
    "    if poss == s[k][0] -1:\n",
    "        pos = k\n",
    "pos"
   ]
  },
  {
   "cell_type": "code",
   "execution_count": 62,
   "id": "f2c2234f-5a4b-4df3-b517-8778179bf055",
   "metadata": {},
   "outputs": [
    {
     "name": "stdout",
     "output_type": "stream",
     "text": [
      "[[1, 1, 1], [2, 1, 3], [3, 1, 2], [4, 1, 1], [1, 2, 2], [3, 2, 3], [3, 3, 1], [4, 2, 3]]\n",
      "[[1, 3, 3], [2, 2, 2]]\n"
     ]
    }
   ],
   "source": [
    "output.append(s[pos])\n",
    "s.pop(pos)\n",
    "\n",
    "print(output)\n",
    "print(s)"
   ]
  },
  {
   "cell_type": "code",
   "execution_count": 63,
   "id": "7c3887e0-6911-4ec9-9c4d-1abf5e6ed0c3",
   "metadata": {},
   "outputs": [
    {
     "name": "stdout",
     "output_type": "stream",
     "text": [
      "[4, 3, 1]\n"
     ]
    }
   ],
   "source": [
    "e = []\n",
    "e.append(output[-1][0])\n",
    "e.append(output[-1][1]+1)\n",
    "e.append(list(df1.loc[e[0]-1])[e[1]-1])\n",
    "print(e)"
   ]
  },
  {
   "cell_type": "code",
   "execution_count": 64,
   "id": "31f47cbb-36d4-40fb-828e-9eab00ce2bcd",
   "metadata": {},
   "outputs": [
    {
     "name": "stdout",
     "output_type": "stream",
     "text": [
      "[[1, 1, 1], [2, 1, 3], [3, 1, 2], [4, 1, 1], [1, 2, 2], [3, 2, 3], [3, 3, 1], [4, 2, 3]]\n",
      "[[1, 3, 3], [2, 2, 2], [4, 3, 1]]\n"
     ]
    }
   ],
   "source": [
    "s.append(e)\n",
    "s.sort(key= lambda x:x[0])\n",
    "\n",
    "print(output)\n",
    "print(s)"
   ]
  },
  {
   "cell_type": "code",
   "execution_count": 65,
   "id": "d144dabe-33b0-4d82-9134-92d3add82aae",
   "metadata": {},
   "outputs": [
    {
     "data": {
      "text/plain": [
       "([5, 9, 5],\n",
       " [[1, 1, 1],\n",
       "  [2, 1, 3],\n",
       "  [3, 1, 2],\n",
       "  [4, 1, 1],\n",
       "  [1, 2, 2],\n",
       "  [3, 2, 3],\n",
       "  [3, 3, 1],\n",
       "  [4, 2, 3]],\n",
       " [[1, 3, 3], [2, 2, 2], [4, 3, 1]])"
      ]
     },
     "execution_count": 65,
     "metadata": {},
     "output_type": "execute_result"
    }
   ],
   "source": [
    "f,output, s"
   ]
  },
  {
   "cell_type": "code",
   "execution_count": 66,
   "id": "81994c0d-8849-4167-9878-5939fe0ebfe8",
   "metadata": {},
   "outputs": [
    {
     "name": "stdout",
     "output_type": "stream",
     "text": [
      "3\n",
      "2\n"
     ]
    }
   ],
   "source": [
    "# f[output[-1][0]-1]\n",
    "print(output[-1][0]-1)\n",
    "for i in pop:\n",
    "    if i < output[-1][0]-1:\n",
    "        posi = output[-1][0]-2\n",
    "print(posi)"
   ]
  },
  {
   "cell_type": "code",
   "execution_count": 67,
   "id": "82bff96f-f0ce-40db-9638-737bd8c1dc4c",
   "metadata": {},
   "outputs": [
    {
     "name": "stdout",
     "output_type": "stream",
     "text": [
      "3\n"
     ]
    }
   ],
   "source": [
    "print(int(list(df1.loc[output[-1][0]-1])[output[-1][1]-1]))"
   ]
  },
  {
   "cell_type": "code",
   "execution_count": 68,
   "id": "aac8dba1-d58e-4937-a635-7a0d7c3e194d",
   "metadata": {},
   "outputs": [
    {
     "name": "stdout",
     "output_type": "stream",
     "text": [
      "1\n"
     ]
    },
    {
     "data": {
      "text/plain": [
       "[8, 9, 8]"
      ]
     },
     "execution_count": 68,
     "metadata": {},
     "output_type": "execute_result"
    }
   ],
   "source": [
    "f[posi] += int(list(df1.loc[output[-1][0]-1])[output[-1][1]-1])\n",
    "for i in s:\n",
    "    if (output[-1][2] == i[2]) and (f[i[0] - 1]<f[posi]):\n",
    "        print(i[0])\n",
    "        f[i[0] - 1] = f[posi]\n",
    "f"
   ]
  },
  {
   "cell_type": "code",
   "execution_count": 69,
   "id": "b8561937-50c8-4853-beff-6cd9f3376a32",
   "metadata": {},
   "outputs": [
    {
     "data": {
      "text/plain": [
       "(8, [0, 2])"
      ]
     },
     "execution_count": 69,
     "metadata": {},
     "output_type": "execute_result"
    }
   ],
   "source": [
    "l_ind = job_mini_index(f)\n",
    "l_ind"
   ]
  },
  {
   "cell_type": "code",
   "execution_count": 70,
   "id": "409f3528-188d-4cf8-9e76-34f2c7f40ad8",
   "metadata": {},
   "outputs": [
    {
     "name": "stdout",
     "output_type": "stream",
     "text": [
      "[2, 1, 2]\n",
      "(3, 3)\n",
      "0\n",
      "1002\n",
      "1\n",
      "1001\n",
      "1002\n",
      "3\n",
      "1002\n"
     ]
    },
    {
     "data": {
      "text/plain": [
       "[[0, 3], [1, 8], [3, 3]]"
      ]
     },
     "execution_count": 70,
     "metadata": {},
     "output_type": "execute_result"
    }
   ],
   "source": [
    "def job_processing_t(table, sss):\n",
    "    List = []\n",
    "    columns = table.columns\n",
    "    ll = [x[1]-1 for x in sss]\n",
    "    print(ll)\n",
    "    c = 0\n",
    "    print(table.shape)\n",
    "    for i in list(df1.index):\n",
    "        print(i)\n",
    "        sum = 0\n",
    "        for j in range(ll[c], table.shape[1]):\n",
    "            print(1000+ j)\n",
    "            sum+=table.loc[i,str(j)]\n",
    "        List.append([i, int(sum)])\n",
    "        c += 1\n",
    "    return List\n",
    "\n",
    "p = job_processing_t(df1,s)\n",
    "\n",
    "p"
   ]
  },
  {
   "cell_type": "code",
   "execution_count": 71,
   "id": "a2dba3be-4505-4e3a-acba-8560ae4c2788",
   "metadata": {},
   "outputs": [
    {
     "name": "stdout",
     "output_type": "stream",
     "text": [
      "[[0, 3], [3, 3]]\n"
     ]
    },
    {
     "data": {
      "text/plain": [
       "(3, 2, [0, 3])"
      ]
     },
     "execution_count": 71,
     "metadata": {},
     "output_type": "execute_result"
    }
   ],
   "source": [
    "li = []\n",
    "for i in l_ind[1]:\n",
    "    li.append(p[i])\n",
    "print(li)\n",
    "\n",
    "m,c,po = count_maxi(li)\n",
    "m,c,po"
   ]
  },
  {
   "cell_type": "code",
   "execution_count": 72,
   "id": "a8ba4bc2-a917-418a-9da2-8fbef7fc31ae",
   "metadata": {},
   "outputs": [
    {
     "data": {
      "text/plain": [
       "2"
      ]
     },
     "execution_count": 72,
     "metadata": {},
     "output_type": "execute_result"
    }
   ],
   "source": [
    "for i in li:\n",
    "    if [i[0]] == po[0]:\n",
    "        poss = i[0]\n",
    "for k in range(len(s)):\n",
    "    if poss == s[k][0] -1:\n",
    "        pos = k\n",
    "pos"
   ]
  },
  {
   "cell_type": "code",
   "execution_count": 73,
   "id": "ff52bac7-18ad-4184-aa55-62eadffcfec0",
   "metadata": {},
   "outputs": [
    {
     "data": {
      "text/plain": [
       "([[1, 1, 1],\n",
       "  [2, 1, 3],\n",
       "  [3, 1, 2],\n",
       "  [4, 1, 1],\n",
       "  [1, 2, 2],\n",
       "  [3, 2, 3],\n",
       "  [3, 3, 1],\n",
       "  [4, 2, 3]],\n",
       " [[1, 3, 3], [2, 2, 2], [4, 3, 1]])"
      ]
     },
     "execution_count": 73,
     "metadata": {},
     "output_type": "execute_result"
    }
   ],
   "source": [
    "output, s"
   ]
  },
  {
   "cell_type": "code",
   "execution_count": 74,
   "id": "867ce4f2-d7fc-4816-beb6-a0ac0950eb4f",
   "metadata": {},
   "outputs": [
    {
     "name": "stdout",
     "output_type": "stream",
     "text": [
      "[[1, 1, 1], [2, 1, 3], [3, 1, 2], [4, 1, 1], [1, 2, 2], [3, 2, 3], [3, 3, 1], [4, 2, 3], [4, 3, 1]]\n",
      "[[1, 3, 3], [2, 2, 2]]\n"
     ]
    }
   ],
   "source": [
    "output.append(s[pos])\n",
    "s.pop(pos)\n",
    "\n",
    "print(output)\n",
    "print(s)"
   ]
  },
  {
   "cell_type": "code",
   "execution_count": 75,
   "id": "cbe91291-d362-4908-8bca-4b733d9138b7",
   "metadata": {},
   "outputs": [
    {
     "name": "stdout",
     "output_type": "stream",
     "text": [
      "3\n",
      "2\n"
     ]
    }
   ],
   "source": [
    "print(output[-1][0]-1)\n",
    "for i in pop:\n",
    "    if i < output[-1][0]-1:\n",
    "        posi = output[-1][0]-2\n",
    "print(posi)"
   ]
  },
  {
   "cell_type": "code",
   "execution_count": 76,
   "id": "fc215fb7-d2bc-4ea3-9f5d-bf0adb36781a",
   "metadata": {},
   "outputs": [
    {
     "data": {
      "text/plain": [
       "(   1  2  3\n",
       " 0  2  3  4\n",
       " 1  4  4  1\n",
       " 3  3  3  1,\n",
       " [8, 9, 8])"
      ]
     },
     "execution_count": 76,
     "metadata": {},
     "output_type": "execute_result"
    }
   ],
   "source": [
    "df1, f"
   ]
  },
  {
   "cell_type": "code",
   "execution_count": 77,
   "id": "e7480a1d-8de2-4d5d-bed4-a0fa744757de",
   "metadata": {},
   "outputs": [
    {
     "name": "stdout",
     "output_type": "stream",
     "text": [
      "[2, 4]\n",
      "3\n"
     ]
    },
    {
     "data": {
      "text/plain": [
       "([[1, 3, 3], [2, 2, 2]], [8, 9], [2, 3])"
      ]
     },
     "execution_count": 77,
     "metadata": {},
     "output_type": "execute_result"
    }
   ],
   "source": [
    "e = []\n",
    "e.append(posi)\n",
    "e.append(output[-1][1]+1)\n",
    "print(e)\n",
    "print(df1.shape[1])\n",
    "if int(e[1]) + 1 >= df1.shape[1]:\n",
    "    \n",
    "    f.pop(posi)\n",
    "    df1 = df1.drop(output[-1][0]-1)\n",
    "    df2 = df2.drop(output[-1][0]-1)\n",
    "    pop.append(output[-1][0]-1)\n",
    "else:\n",
    "    e.append(int(df2.iloc[output[-1][0]-1,e[1]-1]))\n",
    "    s.append(e)\n",
    "    s.sort(key= lambda x:x[0])\n",
    "\n",
    "    print(output)\n",
    "s, f, pop"
   ]
  },
  {
   "cell_type": "code",
   "execution_count": 78,
   "id": "e8d63216-b77f-46fe-b639-bd606b3fa40c",
   "metadata": {},
   "outputs": [
    {
     "data": {
      "text/plain": [
       "(8, [0])"
      ]
     },
     "execution_count": 78,
     "metadata": {},
     "output_type": "execute_result"
    }
   ],
   "source": [
    "l_ind = job_mini_index(f)\n",
    "l_ind"
   ]
  },
  {
   "cell_type": "code",
   "execution_count": 79,
   "id": "f917b5f9-0e45-4652-96be-4b640e7537e6",
   "metadata": {},
   "outputs": [
    {
     "data": {
      "text/plain": [
       "0"
      ]
     },
     "execution_count": 79,
     "metadata": {},
     "output_type": "execute_result"
    }
   ],
   "source": [
    "pos = l_ind[1][0]\n",
    "pos"
   ]
  },
  {
   "cell_type": "code",
   "execution_count": 80,
   "id": "434188ac-22c1-48af-849e-dfbd7a202c16",
   "metadata": {},
   "outputs": [
    {
     "data": {
      "text/plain": [
       "([[1, 1, 1],\n",
       "  [2, 1, 3],\n",
       "  [3, 1, 2],\n",
       "  [4, 1, 1],\n",
       "  [1, 2, 2],\n",
       "  [3, 2, 3],\n",
       "  [3, 3, 1],\n",
       "  [4, 2, 3],\n",
       "  [4, 3, 1]],\n",
       " [[1, 3, 3], [2, 2, 2]])"
      ]
     },
     "execution_count": 80,
     "metadata": {},
     "output_type": "execute_result"
    }
   ],
   "source": [
    "output, s"
   ]
  },
  {
   "cell_type": "code",
   "execution_count": 81,
   "id": "2870f616-0b5b-48b7-9538-bf0494b45b03",
   "metadata": {},
   "outputs": [
    {
     "name": "stdout",
     "output_type": "stream",
     "text": [
      "[[1, 1, 1], [2, 1, 3], [3, 1, 2], [4, 1, 1], [1, 2, 2], [3, 2, 3], [3, 3, 1], [4, 2, 3], [4, 3, 1], [1, 3, 3]]\n",
      "[[2, 2, 2]]\n"
     ]
    }
   ],
   "source": [
    "output.append(s[pos])\n",
    "s.pop(pos)\n",
    "\n",
    "print(output)\n",
    "print(s)"
   ]
  },
  {
   "cell_type": "code",
   "execution_count": 82,
   "id": "01a63409-49f2-49d5-9f40-8ab8a2bc315f",
   "metadata": {},
   "outputs": [
    {
     "data": {
      "text/plain": [
       "10"
      ]
     },
     "execution_count": 82,
     "metadata": {},
     "output_type": "execute_result"
    }
   ],
   "source": [
    "len(output) "
   ]
  },
  {
   "cell_type": "code",
   "execution_count": 83,
   "id": "4e0dfcd3-1fe7-471e-b29b-c5a93fa718bc",
   "metadata": {},
   "outputs": [
    {
     "data": {
      "text/plain": [
       "([[1, 1, 1],\n",
       "  [2, 1, 3],\n",
       "  [3, 1, 2],\n",
       "  [4, 1, 1],\n",
       "  [1, 2, 2],\n",
       "  [3, 2, 3],\n",
       "  [3, 3, 1],\n",
       "  [4, 2, 3],\n",
       "  [4, 3, 1],\n",
       "  [1, 3, 3],\n",
       "  [2, 2, 2],\n",
       "  [2, 2, 3]],\n",
       " [])"
      ]
     },
     "execution_count": 83,
     "metadata": {},
     "output_type": "execute_result"
    }
   ],
   "source": [
    "if len(s)==1:\n",
    "    while len(s) == 1 and len(output) <= 11:\n",
    "        last = s[0].copy()\n",
    "        last[-1] += 1\n",
    "        output.append(s[0])\n",
    "        output.append(last)\n",
    "        s.pop(0)\n",
    "output, s"
   ]
  },
  {
   "cell_type": "code",
   "execution_count": 84,
   "id": "c4521496-4b9a-4bbb-9770-e4bad3a4dda9",
   "metadata": {},
   "outputs": [
    {
     "data": {
      "text/plain": [
       "True"
      ]
     },
     "execution_count": 84,
     "metadata": {},
     "output_type": "execute_result"
    }
   ],
   "source": [
    "len(output) == df.shape[0] * (df.shape[1] -1 ) #-1 for index column"
   ]
  }
 ],
 "metadata": {
  "kernelspec": {
   "display_name": "Python 3 (ipykernel)",
   "language": "python",
   "name": "python3"
  },
  "language_info": {
   "codemirror_mode": {
    "name": "ipython",
    "version": 3
   },
   "file_extension": ".py",
   "mimetype": "text/x-python",
   "name": "python",
   "nbconvert_exporter": "python",
   "pygments_lexer": "ipython3",
   "version": "3.12.8"
  }
 },
 "nbformat": 4,
 "nbformat_minor": 5
}
