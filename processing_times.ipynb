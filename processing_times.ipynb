{
 "cells": [
  {
   "cell_type": "code",
   "execution_count": 3,
   "id": "ba78c8b5-feda-491e-882d-efafcdf80742",
   "metadata": {},
   "outputs": [],
   "source": [
    "import pandas as pd"
   ]
  },
  {
   "cell_type": "code",
   "execution_count": 4,
   "id": "386d0fa9-638f-4ad4-a0df-657612fdf78f",
   "metadata": {},
   "outputs": [
    {
     "data": {
      "text/html": [
       "<div>\n",
       "<style scoped>\n",
       "    .dataframe tbody tr th:only-of-type {\n",
       "        vertical-align: middle;\n",
       "    }\n",
       "\n",
       "    .dataframe tbody tr th {\n",
       "        vertical-align: top;\n",
       "    }\n",
       "\n",
       "    .dataframe thead th {\n",
       "        text-align: right;\n",
       "    }\n",
       "</style>\n",
       "<table border=\"1\" class=\"dataframe\">\n",
       "  <thead>\n",
       "    <tr style=\"text-align: right;\">\n",
       "      <th></th>\n",
       "      <th>1</th>\n",
       "      <th>2</th>\n",
       "      <th>3</th>\n",
       "    </tr>\n",
       "    <tr>\n",
       "      <th>Job/Operation</th>\n",
       "      <th></th>\n",
       "      <th></th>\n",
       "      <th></th>\n",
       "    </tr>\n",
       "  </thead>\n",
       "  <tbody>\n",
       "    <tr>\n",
       "      <th>1</th>\n",
       "      <td>2</td>\n",
       "      <td>3</td>\n",
       "      <td>4</td>\n",
       "    </tr>\n",
       "    <tr>\n",
       "      <th>2</th>\n",
       "      <td>4</td>\n",
       "      <td>4</td>\n",
       "      <td>1</td>\n",
       "    </tr>\n",
       "    <tr>\n",
       "      <th>3</th>\n",
       "      <td>2</td>\n",
       "      <td>2</td>\n",
       "      <td>3</td>\n",
       "    </tr>\n",
       "    <tr>\n",
       "      <th>4</th>\n",
       "      <td>3</td>\n",
       "      <td>3</td>\n",
       "      <td>1</td>\n",
       "    </tr>\n",
       "  </tbody>\n",
       "</table>\n",
       "</div>"
      ],
      "text/plain": [
       "               1  2  3\n",
       "Job/Operation         \n",
       "1              2  3  4\n",
       "2              4  4  1\n",
       "3              2  2  3\n",
       "4              3  3  1"
      ]
     },
     "execution_count": 4,
     "metadata": {},
     "output_type": "execute_result"
    }
   ],
   "source": [
    "data1 = {'Job/Operation': ['1', '2', '3', '4'],\n",
    "        '1': [2, 4, 2, 3],\n",
    "        '2': [3, 4, 2, 3],\n",
    "        '3': [4, 1, 3, 1]}\n",
    "df1 = pd.DataFrame(data1).set_index('Job/Operation') \n",
    "df1"
   ]
  },
  {
   "cell_type": "code",
   "execution_count": 2,
   "id": "85f79931-1680-4cd8-8a51-81e94e74a667",
   "metadata": {},
   "outputs": [
    {
     "data": {
      "text/plain": [
       "[[1, 1, 1],\n",
       " [2, 1, 3],\n",
       " [3, 1, 2],\n",
       " [4, 1, 1],\n",
       " [1, 2, 2],\n",
       " [3, 2, 3],\n",
       " [3, 3, 1],\n",
       " [4, 2, 3],\n",
       " [4, 3, 1],\n",
       " [1, 3, 3],\n",
       " [2, 2, 2],\n",
       " [2, 2, 3]]"
      ]
     },
     "execution_count": 2,
     "metadata": {},
     "output_type": "execute_result"
    }
   ],
   "source": [
    "output = [[1, 1, 1],\n",
    "  [2, 1, 3],\n",
    "  [3, 1, 2],\n",
    "  [4, 1, 1],\n",
    "  [1, 2, 2],\n",
    "  [3, 2, 3],\n",
    "  [3, 3, 1],\n",
    "  [4, 2, 3],\n",
    "  [4, 3, 1],\n",
    "  [1, 3, 3],\n",
    "  [2, 2, 2],\n",
    "  [2, 2, 3]]\n",
    "\n",
    "output"
   ]
  },
  {
   "cell_type": "code",
   "execution_count": 10,
   "id": "cc475ec6-49c6-4091-a7d6-4203fd64a30d",
   "metadata": {},
   "outputs": [
    {
     "name": "stdout",
     "output_type": "stream",
     "text": [
      "[np.int64(9), np.int64(9), np.int64(17)]\n",
      "17 hours\n"
     ]
    }
   ],
   "source": [
    "sumTimes = [0 for i in range(df1.shape[1])]\n",
    "for i in output:\n",
    "    \n",
    "    sumTimes[i[2]-1]+= df1.iloc[i[0]-1, i[1]-1]\n",
    "print(sumTimes)\n",
    "print(f\"{max(sumTimes)} hours\")"
   ]
  }
 ],
 "metadata": {
  "kernelspec": {
   "display_name": "Python 3 (ipykernel)",
   "language": "python",
   "name": "python3"
  },
  "language_info": {
   "codemirror_mode": {
    "name": "ipython",
    "version": 3
   },
   "file_extension": ".py",
   "mimetype": "text/x-python",
   "name": "python",
   "nbconvert_exporter": "python",
   "pygments_lexer": "ipython3",
   "version": "3.12.8"
  }
 },
 "nbformat": 4,
 "nbformat_minor": 5
}
